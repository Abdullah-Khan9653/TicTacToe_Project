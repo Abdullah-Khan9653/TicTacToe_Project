{
 "cells": [
  {
   "cell_type": "code",
   "execution_count": 3,
   "id": "470ba2ea-fe14-4456-a52e-887dbf7647a6",
   "metadata": {},
   "outputs": [
    {
     "name": "stdout",
     "output_type": "stream",
     "text": [
      "Collecting textblob\n",
      "  Downloading textblob-0.19.0-py3-none-any.whl.metadata (4.4 kB)\n",
      "Collecting nltk>=3.9 (from textblob)\n",
      "  Downloading nltk-3.9.1-py3-none-any.whl.metadata (2.9 kB)\n",
      "Requirement already satisfied: click in c:\\users\\shame\\.conda\\envs\\signlangenv\\lib\\site-packages (from nltk>=3.9->textblob) (8.1.8)\n",
      "Requirement already satisfied: joblib in c:\\users\\shame\\.conda\\envs\\signlangenv\\lib\\site-packages (from nltk>=3.9->textblob) (1.2.0)\n",
      "Requirement already satisfied: regex>=2021.8.3 in c:\\users\\shame\\appdata\\roaming\\python\\python39\\site-packages (from nltk>=3.9->textblob) (2024.11.6)\n",
      "Requirement already satisfied: tqdm in c:\\users\\shame\\appdata\\roaming\\python\\python39\\site-packages (from nltk>=3.9->textblob) (4.67.1)\n",
      "Requirement already satisfied: colorama in c:\\users\\shame\\.conda\\envs\\signlangenv\\lib\\site-packages (from click->nltk>=3.9->textblob) (0.4.6)\n",
      "Downloading textblob-0.19.0-py3-none-any.whl (624 kB)\n",
      "   ---------------------------------------- 0.0/624.3 kB ? eta -:--:--\n",
      "   ---------------------------------------- 0.0/624.3 kB ? eta -:--:--\n",
      "   --------------------------------- ------ 524.3/624.3 kB 1.4 MB/s eta 0:00:01\n",
      "   ---------------------------------------- 624.3/624.3 kB 1.4 MB/s eta 0:00:00\n",
      "Downloading nltk-3.9.1-py3-none-any.whl (1.5 MB)\n",
      "   ---------------------------------------- 0.0/1.5 MB ? eta -:--:--\n",
      "   ------ --------------------------------- 0.3/1.5 MB ? eta -:--:--\n",
      "   -------------------- ------------------- 0.8/1.5 MB 2.1 MB/s eta 0:00:01\n",
      "   ---------------------------------- ----- 1.3/1.5 MB 2.3 MB/s eta 0:00:01\n",
      "   ---------------------------------------- 1.5/1.5 MB 2.3 MB/s eta 0:00:00\n",
      "Installing collected packages: nltk, textblob\n",
      "\n",
      "  Attempting uninstall: nltk\n",
      "\n",
      "    Found existing installation: nltk 3.8.1\n",
      "\n",
      "   ---------------------------------------- 0/2 [nltk]\n",
      "   ---------------------------------------- 0/2 [nltk]\n",
      "   ---------------------------------------- 0/2 [nltk]\n",
      "    Uninstalling nltk-3.8.1:\n",
      "   ---------------------------------------- 0/2 [nltk]\n",
      "      Successfully uninstalled nltk-3.8.1\n",
      "   ---------------------------------------- 0/2 [nltk]\n",
      "   ---------------------------------------- 0/2 [nltk]\n",
      "   ---------------------------------------- 0/2 [nltk]\n",
      "   ---------------------------------------- 0/2 [nltk]\n",
      "   ---------------------------------------- 0/2 [nltk]\n",
      "   ---------------------------------------- 0/2 [nltk]\n",
      "   ---------------------------------------- 0/2 [nltk]\n",
      "   ---------------------------------------- 0/2 [nltk]\n",
      "   ---------------------------------------- 0/2 [nltk]\n",
      "   ---------------------------------------- 0/2 [nltk]\n",
      "   ---------------------------------------- 0/2 [nltk]\n",
      "   ---------------------------------------- 0/2 [nltk]\n",
      "   ---------------------------------------- 0/2 [nltk]\n",
      "   ---------------------------------------- 0/2 [nltk]\n",
      "   ---------------------------------------- 0/2 [nltk]\n",
      "   ---------------------------------------- 0/2 [nltk]\n",
      "   ---------------------------------------- 0/2 [nltk]\n",
      "   ---------------------------------------- 0/2 [nltk]\n",
      "   ---------------------------------------- 0/2 [nltk]\n",
      "   ---------------------------------------- 0/2 [nltk]\n",
      "   ---------------------------------------- 0/2 [nltk]\n",
      "   ---------------------------------------- 0/2 [nltk]\n",
      "   ---------------------------------------- 0/2 [nltk]\n",
      "   ---------------------------------------- 0/2 [nltk]\n",
      "   ---------------------------------------- 0/2 [nltk]\n",
      "   ---------------------------------------- 0/2 [nltk]\n",
      "   ---------------------------------------- 0/2 [nltk]\n",
      "   ---------------------------------------- 0/2 [nltk]\n",
      "   ---------------------------------------- 0/2 [nltk]\n",
      "   ---------------------------------------- 0/2 [nltk]\n",
      "   ---------------------------------------- 0/2 [nltk]\n",
      "   ---------------------------------------- 0/2 [nltk]\n",
      "   ---------------------------------------- 0/2 [nltk]\n",
      "   ---------------------------------------- 0/2 [nltk]\n",
      "   ---------------------------------------- 0/2 [nltk]\n",
      "   ---------------------------------------- 0/2 [nltk]\n",
      "   ---------------------------------------- 0/2 [nltk]\n",
      "   ---------------------------------------- 0/2 [nltk]\n",
      "   ---------------------------------------- 0/2 [nltk]\n",
      "   ---------------------------------------- 0/2 [nltk]\n",
      "   ---------------------------------------- 0/2 [nltk]\n",
      "   ---------------------------------------- 0/2 [nltk]\n",
      "   ---------------------------------------- 0/2 [nltk]\n",
      "   ---------------------------------------- 0/2 [nltk]\n",
      "   ---------------------------------------- 0/2 [nltk]\n",
      "   ---------------------------------------- 0/2 [nltk]\n",
      "   ---------------------------------------- 0/2 [nltk]\n",
      "   ---------------------------------------- 0/2 [nltk]\n",
      "   ---------------------------------------- 0/2 [nltk]\n",
      "   ---------------------------------------- 0/2 [nltk]\n",
      "   ---------------------------------------- 0/2 [nltk]\n",
      "   ---------------------------------------- 0/2 [nltk]\n",
      "   ---------------------------------------- 0/2 [nltk]\n",
      "   ---------------------------------------- 0/2 [nltk]\n",
      "   ---------------------------------------- 0/2 [nltk]\n",
      "   ---------------------------------------- 0/2 [nltk]\n",
      "   ---------------------------------------- 0/2 [nltk]\n",
      "   ---------------------------------------- 0/2 [nltk]\n",
      "   ---------------------------------------- 0/2 [nltk]\n",
      "   ---------------------------------------- 0/2 [nltk]\n",
      "   -------------------- ------------------- 1/2 [textblob]\n",
      "   -------------------- ------------------- 1/2 [textblob]\n",
      "   -------------------- ------------------- 1/2 [textblob]\n",
      "   -------------------- ------------------- 1/2 [textblob]\n",
      "   ---------------------------------------- 2/2 [textblob]\n",
      "\n",
      "Successfully installed nltk-3.9.1 textblob-0.19.0\n"
     ]
    },
    {
     "name": "stderr",
     "output_type": "stream",
     "text": [
      "\n",
      "[notice] A new release of pip is available: 25.1.1 -> 25.2\n",
      "[notice] To update, run: python.exe -m pip install --upgrade pip\n"
     ]
    }
   ],
   "source": [
    "!pip install textblob\n"
   ]
  },
  {
   "cell_type": "code",
   "execution_count": 4,
   "id": "8cfd1626-f2b2-45c8-83f6-a9431b92831a",
   "metadata": {},
   "outputs": [
    {
     "name": "stdout",
     "output_type": "stream",
     "text": [
      "Finished.\n"
     ]
    },
    {
     "name": "stderr",
     "output_type": "stream",
     "text": [
      "[nltk_data] Downloading package brown to\n",
      "[nltk_data]     C:\\Users\\shame\\AppData\\Roaming\\nltk_data...\n",
      "[nltk_data]   Unzipping corpora\\brown.zip.\n",
      "[nltk_data] Downloading package punkt_tab to\n",
      "[nltk_data]     C:\\Users\\shame\\AppData\\Roaming\\nltk_data...\n",
      "[nltk_data]   Unzipping tokenizers\\punkt_tab.zip.\n",
      "[nltk_data] Downloading package wordnet to\n",
      "[nltk_data]     C:\\Users\\shame\\AppData\\Roaming\\nltk_data...\n",
      "[nltk_data] Downloading package averaged_perceptron_tagger_eng to\n",
      "[nltk_data]     C:\\Users\\shame\\AppData\\Roaming\\nltk_data...\n",
      "[nltk_data]   Unzipping taggers\\averaged_perceptron_tagger_eng.zip.\n",
      "[nltk_data] Downloading package conll2000 to\n",
      "[nltk_data]     C:\\Users\\shame\\AppData\\Roaming\\nltk_data...\n",
      "[nltk_data]   Unzipping corpora\\conll2000.zip.\n",
      "[nltk_data] Downloading package movie_reviews to\n",
      "[nltk_data]     C:\\Users\\shame\\AppData\\Roaming\\nltk_data...\n",
      "[nltk_data]   Unzipping corpora\\movie_reviews.zip.\n"
     ]
    }
   ],
   "source": [
    "!python -m textblob.download_corpora"
   ]
  },
  {
   "cell_type": "code",
   "execution_count": null,
   "id": "0da75440-e070-4aa6-a7b9-b99e32d35c58",
   "metadata": {},
   "outputs": [],
   "source": []
  },
  {
   "cell_type": "code",
   "execution_count": null,
   "id": "6380a9fe-4919-46bc-8d33-e560875905be",
   "metadata": {},
   "outputs": [],
   "source": [
    "import tkinter as tk\n",
    "\n",
    "# Word lists\n",
    "positive_words = [\"happy\", \"good\", \"great\", \"love\", \"awesome\", \"excellent\", \"wonderful\"]\n",
    "negative_words = [\"sad\", \"bad\", \"hate\", \"angry\", \"die\", \"death\", \"upset\", \"cry\"]\n",
    "\n",
    "def analyze_sentiment():\n",
    "    text = input_box.get(\"1.0\", tk.END).lower()\n",
    "    pos_count = sum(word in positive_words for word in text.split())\n",
    "    neg_count = sum(word in negative_words for word in text.split())\n",
    "    if neg_count > pos_count:\n",
    "        sentiment = \"Negative 😔\"\n",
    "    elif pos_count > neg_count:\n",
    "        sentiment = \"Positive 😊\"\n",
    "    else:\n",
    "        sentiment = \"Neutral 😐\"\n",
    "    result_label.config(text=f\"Sentiment: {sentiment}\")\n",
    "\n",
    "root = tk.Tk()\n",
    "root.title(\"Custom Sentiment Analysis Tool\")\n",
    "root.geometry(\"500x400\")\n",
    "\n",
    "tk.Label(root, text=\"Enter your text:\").pack(pady=5)\n",
    "input_box = tk.Text(root, height=8, width=50)\n",
    "input_box.pack()\n",
    "\n",
    "tk.Button(root, text=\"Analyze\", command=analyze_sentiment).pack(pady=10)\n",
    "result_label = tk.Label(root, text=\"\", font=(\"Arial\", 14))\n",
    "result_label.pack(pady=20)\n",
    "\n",
    "root.mainloop()\n"
   ]
  }
 ],
 "metadata": {
  "kernelspec": {
   "display_name": "Python 3 (ipykernel)",
   "language": "python",
   "name": "python3"
  },
  "language_info": {
   "codemirror_mode": {
    "name": "ipython",
    "version": 3
   },
   "file_extension": ".py",
   "mimetype": "text/x-python",
   "name": "python",
   "nbconvert_exporter": "python",
   "pygments_lexer": "ipython3",
   "version": "3.9.21"
  }
 },
 "nbformat": 4,
 "nbformat_minor": 5
}
